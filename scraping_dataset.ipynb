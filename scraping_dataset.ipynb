{
 "cells": [
  {
   "cell_type": "code",
   "execution_count": 74,
   "metadata": {},
   "outputs": [],
   "source": [
    "import requests\n",
    "from bs4 import BeautifulSoup as bs\n",
    "from random import randint\n",
    "from time import sleep\n",
    "import pandas as pd\n",
    "\n",
    "URL = 'https://cekfakta.com/page/'\n",
    "\n",
    "judul_lst = []\n",
    "desc_lst = []\n",
    "status_lst = []\n",
    "link_lst = []\n",
    "\n",
    "for page in range(1,1801):\n",
    "    \n",
    "\treq = requests.get(URL + str(page) + '/', verify=False)\n",
    "\tsoup = bs(req.text, 'html.parser')\n",
    "\n",
    "\tjudul_tag = soup.select('h1[class=\"title\"] a')\n",
    "\tfor i in judul_tag:\n",
    "\t\tjudul_lst.append(i.getText().replace('[SALAH]', ''))\n",
    "\n",
    "\tdesc_tag = soup.select('div[class=\"description\"] div[class=\"content\"]')\n",
    "\tfor i in desc_tag:\n",
    "\t\tdesc_lst.append(i.getText())\n",
    "\t\n",
    "\tstatus_tag = soup.select('div[class=\"status\"] a')\n",
    "\tfor i in status_tag:\n",
    "\t\tstatus_lst.append(i.getText())\n",
    "  \n",
    "\tfor i in judul_tag:\n",
    "\t\tn = i['href']\n",
    "\t\tlink_lst.append(n)\t\n",
    "\t\n",
    "\tsleep(randint(2,10))\n",
    "\n",
    "dic_data = {\n",
    "    'Judul': judul_lst,\n",
    "    'Deskripsi': desc_lst,\n",
    "    'Status': status_lst,\n",
    "    'Link': link_lst\n",
    "}\n",
    "\n",
    "df = pd.DataFrame.from_dict(dic_data) \n",
    "df.to_csv (r'dataset_1396_5-25.csv', index = False, header=True)\n",
    "\n",
    "print(len(judul_lst))\n",
    "print(len(desc_lst))\n",
    "print(len(status_lst))\n",
    "print(len(link_lst))\n"
   ]
  },
  {
   "cell_type": "code",
   "execution_count": 46,
   "metadata": {},
   "outputs": [],
   "source": [
    "df = pd.DataFrame.from_dict(dic_data) \n",
    "df.to_csv (r'dataset_1396_5-25.csv', index = False, header=True)"
   ]
  }
 ],
 "metadata": {
  "interpreter": {
   "hash": "e3af395df47b0f769527003f8933dfa19a4bece7db9e65e18852214d2513fa12"
  },
  "kernelspec": {
   "display_name": "Python 3.9.5 ('env': venv)",
   "language": "python",
   "name": "python3"
  },
  "language_info": {
   "codemirror_mode": {
    "name": "ipython",
    "version": 3
   },
   "file_extension": ".py",
   "mimetype": "text/x-python",
   "name": "python",
   "nbconvert_exporter": "python",
   "pygments_lexer": "ipython3",
   "version": "3.9.5"
  },
  "orig_nbformat": 4
 },
 "nbformat": 4,
 "nbformat_minor": 2
}
